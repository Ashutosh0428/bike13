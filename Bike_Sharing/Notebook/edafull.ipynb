{
 "cells": [
  {
   "cell_type": "code",
   "execution_count": null,
   "metadata": {
    "_cell_guid": "b1076dfc-b9ad-4769-8c92-a6c4dae69d19",
    "_uuid": "8f2839f25d086af736a60e9eeb907d3b93b6e0e5",
    "execution": {
     "iopub.execute_input": "2022-04-19T06:30:04.769287Z",
     "iopub.status.busy": "2022-04-19T06:30:04.768683Z",
     "iopub.status.idle": "2022-04-19T06:30:04.776383Z",
     "shell.execute_reply": "2022-04-19T06:30:04.775715Z",
     "shell.execute_reply.started": "2022-04-19T06:30:04.769242Z"
    }
   },
   "outputs": [],
   "source": [
    "import numpy as np \n",
    "import pandas as pd \n"
   ]
  },
  {
   "cell_type": "markdown",
   "metadata": {},
   "source": [
    "# Problem Statement\n",
    "Factors effecting the booking of the cycles. To find the relation between the Season,Weather or Working day with rental."
   ]
  },
  {
   "cell_type": "markdown",
   "metadata": {},
   "source": [
    "# Understanding the data\n",
    "\n",
    "- ****timestamp**** - timestamp field for grouping the data\n",
    "- ****cnt**** - the count of a new bike shares\n",
    "- ****t1**** - real temperature in C\n",
    "- ****t2**** - temperature in C \"feels like\"\n",
    "- ****hum**** - humidity in percentage\n",
    "- ****windspeed**** - wind speed in km/h\n",
    "- ****weathercode**** - category of the weather\n",
    "    - 1 = Clear ; mostly clear but have some values with haze/fog/patches of fog/ fog in vicinity \n",
    "    - 2 = scattered clouds / few clouds \n",
    "    - 3 = Broken clouds \n",
    "    - 4 = Cloudy \n",
    "    - 7 = Rain/ light Rain shower/ Light rain \n",
    "    - 10 = rain with thunderstorm \n",
    "    - 26 = snowfall\n",
    "    \n",
    "    \n",
    "- ***isholiday**** - boolean field - 1 holiday / 0 non holiday\n",
    "- ****isweekend**** - boolean field - 1 if the day is weekend\n",
    "- ****season**** - category(0-spring ; 1-summer; 2-fall; 3-winter)\n"
   ]
  },
  {
   "cell_type": "code",
   "execution_count": null,
   "metadata": {
    "execution": {
     "iopub.execute_input": "2022-04-19T06:30:04.778281Z",
     "iopub.status.busy": "2022-04-19T06:30:04.777872Z",
     "iopub.status.idle": "2022-04-19T06:30:04.788602Z",
     "shell.execute_reply": "2022-04-19T06:30:04.787959Z",
     "shell.execute_reply.started": "2022-04-19T06:30:04.77825Z"
    }
   },
   "outputs": [],
   "source": [
    "import pandas as pd\n",
    "import numpy as np\n",
    "import seaborn as sns\n",
    "import matplotlib.pyplot as plt\n",
    "from scipy import stats\n",
    "from scipy.stats import boxcox,yeojohnson"
   ]
  },
  {
   "cell_type": "code",
   "execution_count": null,
   "metadata": {
    "execution": {
     "iopub.execute_input": "2022-04-19T06:30:04.789958Z",
     "iopub.status.busy": "2022-04-19T06:30:04.789717Z",
     "iopub.status.idle": "2022-04-19T06:30:04.830975Z",
     "shell.execute_reply": "2022-04-19T06:30:04.830218Z",
     "shell.execute_reply.started": "2022-04-19T06:30:04.789927Z"
    }
   },
   "outputs": [],
   "source": [
    "data = pd.read_csv('../input/london-bike-sharing-dataset/london_merged.csv')"
   ]
  },
  {
   "cell_type": "code",
   "execution_count": null,
   "metadata": {
    "execution": {
     "iopub.execute_input": "2022-04-19T06:30:04.833079Z",
     "iopub.status.busy": "2022-04-19T06:30:04.832774Z",
     "iopub.status.idle": "2022-04-19T06:30:04.853228Z",
     "shell.execute_reply": "2022-04-19T06:30:04.852405Z",
     "shell.execute_reply.started": "2022-04-19T06:30:04.833039Z"
    }
   },
   "outputs": [],
   "source": [
    "data.head()"
   ]
  },
  {
   "cell_type": "code",
   "execution_count": null,
   "metadata": {
    "execution": {
     "iopub.execute_input": "2022-04-19T06:30:04.854605Z",
     "iopub.status.busy": "2022-04-19T06:30:04.854366Z",
     "iopub.status.idle": "2022-04-19T06:30:04.860059Z",
     "shell.execute_reply": "2022-04-19T06:30:04.859309Z",
     "shell.execute_reply.started": "2022-04-19T06:30:04.854575Z"
    }
   },
   "outputs": [],
   "source": [
    "data.shape"
   ]
  },
  {
   "cell_type": "markdown",
   "metadata": {},
   "source": [
    "****We have around 17K booking records.****"
   ]
  },
  {
   "cell_type": "code",
   "execution_count": null,
   "metadata": {
    "execution": {
     "iopub.execute_input": "2022-04-19T06:30:04.861671Z",
     "iopub.status.busy": "2022-04-19T06:30:04.861315Z",
     "iopub.status.idle": "2022-04-19T06:30:04.882738Z",
     "shell.execute_reply": "2022-04-19T06:30:04.881858Z",
     "shell.execute_reply.started": "2022-04-19T06:30:04.861642Z"
    }
   },
   "outputs": [],
   "source": [
    "data.info()"
   ]
  },
  {
   "cell_type": "markdown",
   "metadata": {
    "execution": {
     "iopub.execute_input": "2022-04-17T02:28:18.88525Z",
     "iopub.status.busy": "2022-04-17T02:28:18.884473Z",
     "iopub.status.idle": "2022-04-17T02:28:18.89152Z",
     "shell.execute_reply": "2022-04-17T02:28:18.889928Z",
     "shell.execute_reply.started": "2022-04-17T02:28:18.88522Z"
    }
   },
   "source": [
    "****Most of the data is numerical instead of timestamp****"
   ]
  },
  {
   "cell_type": "code",
   "execution_count": null,
   "metadata": {
    "execution": {
     "iopub.execute_input": "2022-04-19T06:30:04.883976Z",
     "iopub.status.busy": "2022-04-19T06:30:04.883763Z",
     "iopub.status.idle": "2022-04-19T06:30:04.935531Z",
     "shell.execute_reply": "2022-04-19T06:30:04.934691Z",
     "shell.execute_reply.started": "2022-04-19T06:30:04.883941Z"
    }
   },
   "outputs": [],
   "source": [
    "data.describe().T"
   ]
  },
  {
   "cell_type": "markdown",
   "metadata": {},
   "source": [
    "### From the above data we can infer - \n",
    "- Season, Holiday, Weekend, Weather despite being numerical is categorical in nature\n",
    "- Avg real temp is around 12.5° celcius\n",
    "- Avg feels like temperature is around 11.5° celcius\n",
    "- Riders count average is around 1143 but max value is 7860 so there is a hint of outliers"
   ]
  },
  {
   "cell_type": "markdown",
   "metadata": {},
   "source": [
    "# Adding Month and Year column for better understanding of data"
   ]
  },
  {
   "cell_type": "code",
   "execution_count": null,
   "metadata": {
    "execution": {
     "iopub.execute_input": "2022-04-19T06:30:04.936819Z",
     "iopub.status.busy": "2022-04-19T06:30:04.936608Z",
     "iopub.status.idle": "2022-04-19T06:30:04.948996Z",
     "shell.execute_reply": "2022-04-19T06:30:04.948065Z",
     "shell.execute_reply.started": "2022-04-19T06:30:04.936792Z"
    }
   },
   "outputs": [],
   "source": [
    "data['timestamp'] = pd.to_datetime(data['timestamp'])"
   ]
  },
  {
   "cell_type": "code",
   "execution_count": null,
   "metadata": {
    "execution": {
     "iopub.execute_input": "2022-04-19T06:30:04.950512Z",
     "iopub.status.busy": "2022-04-19T06:30:04.950053Z",
     "iopub.status.idle": "2022-04-19T06:30:04.961725Z",
     "shell.execute_reply": "2022-04-19T06:30:04.961028Z",
     "shell.execute_reply.started": "2022-04-19T06:30:04.950476Z"
    }
   },
   "outputs": [],
   "source": [
    "data['year'] = data['timestamp'].dt.year"
   ]
  },
  {
   "cell_type": "code",
   "execution_count": null,
   "metadata": {
    "execution": {
     "iopub.execute_input": "2022-04-19T06:30:04.964398Z",
     "iopub.status.busy": "2022-04-19T06:30:04.963835Z",
     "iopub.status.idle": "2022-04-19T06:30:04.972184Z",
     "shell.execute_reply": "2022-04-19T06:30:04.971387Z",
     "shell.execute_reply.started": "2022-04-19T06:30:04.964363Z"
    }
   },
   "outputs": [],
   "source": [
    "data['month'] = data['timestamp'].dt.month"
   ]
  },
  {
   "cell_type": "code",
   "execution_count": null,
   "metadata": {
    "execution": {
     "iopub.execute_input": "2022-04-19T06:30:04.973803Z",
     "iopub.status.busy": "2022-04-19T06:30:04.97343Z",
     "iopub.status.idle": "2022-04-19T06:30:04.996312Z",
     "shell.execute_reply": "2022-04-19T06:30:04.995673Z",
     "shell.execute_reply.started": "2022-04-19T06:30:04.973773Z"
    }
   },
   "outputs": [],
   "source": [
    "data.head()"
   ]
  },
  {
   "cell_type": "markdown",
   "metadata": {},
   "source": [
    "# Non Graphical Analysis"
   ]
  },
  {
   "cell_type": "code",
   "execution_count": null,
   "metadata": {
    "execution": {
     "iopub.execute_input": "2022-04-19T06:30:04.997698Z",
     "iopub.status.busy": "2022-04-19T06:30:04.997375Z",
     "iopub.status.idle": "2022-04-19T06:30:05.006735Z",
     "shell.execute_reply": "2022-04-19T06:30:05.006032Z",
     "shell.execute_reply.started": "2022-04-19T06:30:04.997669Z"
    }
   },
   "outputs": [],
   "source": [
    "data.isnull().sum()"
   ]
  },
  {
   "cell_type": "markdown",
   "metadata": {},
   "source": [
    "****There is no null data.****"
   ]
  },
  {
   "cell_type": "code",
   "execution_count": null,
   "metadata": {
    "execution": {
     "iopub.execute_input": "2022-04-19T06:30:05.008454Z",
     "iopub.status.busy": "2022-04-19T06:30:05.007881Z",
     "iopub.status.idle": "2022-04-19T06:30:05.015829Z",
     "shell.execute_reply": "2022-04-19T06:30:05.015227Z",
     "shell.execute_reply.started": "2022-04-19T06:30:05.008421Z"
    }
   },
   "outputs": [],
   "source": [
    "data['season'].value_counts(ascending=False)"
   ]
  },
  {
   "cell_type": "markdown",
   "metadata": {},
   "source": [
    "****Almost all the four seasons share the equal amount of records****"
   ]
  },
  {
   "cell_type": "code",
   "execution_count": null,
   "metadata": {
    "execution": {
     "iopub.execute_input": "2022-04-19T06:30:05.01726Z",
     "iopub.status.busy": "2022-04-19T06:30:05.016834Z",
     "iopub.status.idle": "2022-04-19T06:30:05.029026Z",
     "shell.execute_reply": "2022-04-19T06:30:05.02816Z",
     "shell.execute_reply.started": "2022-04-19T06:30:05.017229Z"
    }
   },
   "outputs": [],
   "source": [
    "data['is_holiday'].value_counts()"
   ]
  },
  {
   "cell_type": "markdown",
   "metadata": {},
   "source": [
    "****More booking data is from Non Holiday than a holiday****"
   ]
  },
  {
   "cell_type": "code",
   "execution_count": null,
   "metadata": {
    "execution": {
     "iopub.execute_input": "2022-04-19T06:30:05.030586Z",
     "iopub.status.busy": "2022-04-19T06:30:05.030139Z",
     "iopub.status.idle": "2022-04-19T06:30:05.039694Z",
     "shell.execute_reply": "2022-04-19T06:30:05.038875Z",
     "shell.execute_reply.started": "2022-04-19T06:30:05.030541Z"
    }
   },
   "outputs": [],
   "source": [
    "data['weather_code'].value_counts(ascending=False)"
   ]
  },
  {
   "cell_type": "markdown",
   "metadata": {},
   "source": [
    "### Dropping weather code 26 and 10 as they have very less number of records."
   ]
  },
  {
   "cell_type": "code",
   "execution_count": null,
   "metadata": {
    "execution": {
     "iopub.execute_input": "2022-04-19T06:30:05.041585Z",
     "iopub.status.busy": "2022-04-19T06:30:05.040853Z",
     "iopub.status.idle": "2022-04-19T06:30:05.048739Z",
     "shell.execute_reply": "2022-04-19T06:30:05.047821Z",
     "shell.execute_reply.started": "2022-04-19T06:30:05.041547Z"
    }
   },
   "outputs": [],
   "source": [
    "data = data[(data['weather_code']!=10) & (data['weather_code']!=26)]"
   ]
  },
  {
   "cell_type": "code",
   "execution_count": null,
   "metadata": {
    "execution": {
     "iopub.execute_input": "2022-04-19T06:30:05.05045Z",
     "iopub.status.busy": "2022-04-19T06:30:05.049839Z",
     "iopub.status.idle": "2022-04-19T06:30:05.060372Z",
     "shell.execute_reply": "2022-04-19T06:30:05.059506Z",
     "shell.execute_reply.started": "2022-04-19T06:30:05.050411Z"
    }
   },
   "outputs": [],
   "source": [
    "data['is_weekend'].value_counts()"
   ]
  },
  {
   "cell_type": "markdown",
   "metadata": {},
   "source": [
    "****More booking data is from Non Weekend than a weekends****"
   ]
  },
  {
   "cell_type": "code",
   "execution_count": null,
   "metadata": {
    "execution": {
     "iopub.execute_input": "2022-04-19T06:30:05.062408Z",
     "iopub.status.busy": "2022-04-19T06:30:05.061922Z",
     "iopub.status.idle": "2022-04-19T06:30:05.076507Z",
     "shell.execute_reply": "2022-04-19T06:30:05.075844Z",
     "shell.execute_reply.started": "2022-04-19T06:30:05.062364Z"
    }
   },
   "outputs": [],
   "source": [
    "data.groupby(['weather_code'])['cnt'].mean()"
   ]
  },
  {
   "cell_type": "markdown",
   "metadata": {},
   "source": [
    "****Most booking data is from weather type 1 followed by type 2 and type 3.****"
   ]
  },
  {
   "cell_type": "markdown",
   "metadata": {},
   "source": [
    "# Univariate Analysis"
   ]
  },
  {
   "cell_type": "code",
   "execution_count": null,
   "metadata": {
    "execution": {
     "iopub.execute_input": "2022-04-19T06:30:05.079556Z",
     "iopub.status.busy": "2022-04-19T06:30:05.078882Z",
     "iopub.status.idle": "2022-04-19T06:30:05.613881Z",
     "shell.execute_reply": "2022-04-19T06:30:05.613137Z",
     "shell.execute_reply.started": "2022-04-19T06:30:05.079519Z"
    }
   },
   "outputs": [],
   "source": [
    "sns.set(style=\"darkgrid\")\n",
    "f, (ax_box, ax_hist) = plt.subplots(2, sharex=True, gridspec_kw={\"height_ratios\": (.15, .85)})\n",
    "sns.boxplot(data=data,x='t1', ax=ax_box)\n",
    "sns.histplot(data=data, x=\"t1\", ax=ax_hist,kde=True)\n",
    "ax_box.set(xlabel='')\n",
    "plt.show()"
   ]
  },
  {
   "cell_type": "markdown",
   "metadata": {},
   "source": [
    "# Treating outliers"
   ]
  },
  {
   "cell_type": "code",
   "execution_count": null,
   "metadata": {
    "execution": {
     "iopub.execute_input": "2022-04-19T06:30:05.615096Z",
     "iopub.status.busy": "2022-04-19T06:30:05.614909Z",
     "iopub.status.idle": "2022-04-19T06:30:05.627109Z",
     "shell.execute_reply": "2022-04-19T06:30:05.626202Z",
     "shell.execute_reply.started": "2022-04-19T06:30:05.615071Z"
    }
   },
   "outputs": [],
   "source": [
    "Q3 = data['t1'].quantile(0.75)\n",
    "Q1 = data['t1'].quantile(0.25)\n",
    "IQR = Q3-Q1\n",
    "upper = Q3+(1.5*IQR)\n",
    "lower = Q1-(1.5*IQR)\n",
    "(upper,lower)"
   ]
  },
  {
   "cell_type": "code",
   "execution_count": null,
   "metadata": {
    "execution": {
     "iopub.execute_input": "2022-04-19T06:30:05.629121Z",
     "iopub.status.busy": "2022-04-19T06:30:05.628653Z",
     "iopub.status.idle": "2022-04-19T06:30:05.636118Z",
     "shell.execute_reply": "2022-04-19T06:30:05.635571Z",
     "shell.execute_reply.started": "2022-04-19T06:30:05.629076Z"
    }
   },
   "outputs": [],
   "source": [
    "data = data[(data['t1']>lower) & (data['t1']<upper)]"
   ]
  },
  {
   "cell_type": "markdown",
   "metadata": {},
   "source": [
    "## Plotting graph to check data after outlier treatment"
   ]
  },
  {
   "cell_type": "code",
   "execution_count": null,
   "metadata": {
    "execution": {
     "iopub.execute_input": "2022-04-19T06:30:05.63816Z",
     "iopub.status.busy": "2022-04-19T06:30:05.63774Z",
     "iopub.status.idle": "2022-04-19T06:30:06.14575Z",
     "shell.execute_reply": "2022-04-19T06:30:06.144929Z",
     "shell.execute_reply.started": "2022-04-19T06:30:05.638117Z"
    }
   },
   "outputs": [],
   "source": [
    "sns.set(style=\"darkgrid\")\n",
    "f, (ax_box, ax_hist) = plt.subplots(2, sharex=True, gridspec_kw={\"height_ratios\": (.15, .85)})\n",
    "sns.boxplot(data=data,x='t1', ax=ax_box)\n",
    "sns.histplot(data=data, x=\"t1\", ax=ax_hist,kde=True)\n",
    "ax_box.set(xlabel='')\n",
    "plt.show()"
   ]
  },
  {
   "cell_type": "markdown",
   "metadata": {},
   "source": [
    "### From the above graph we can infer - \n",
    "- Avg real temperature is around 13° celcius \n",
    "- 25% of temperature is around 9.5° celcius\n",
    "- 75% of temperature is around 15.5° celcius"
   ]
  },
  {
   "cell_type": "code",
   "execution_count": null,
   "metadata": {
    "execution": {
     "iopub.execute_input": "2022-04-19T06:30:06.147865Z",
     "iopub.status.busy": "2022-04-19T06:30:06.147358Z",
     "iopub.status.idle": "2022-04-19T06:30:06.663768Z",
     "shell.execute_reply": "2022-04-19T06:30:06.662963Z",
     "shell.execute_reply.started": "2022-04-19T06:30:06.147819Z"
    }
   },
   "outputs": [],
   "source": [
    "sns.set(style=\"darkgrid\")\n",
    "f, (ax_box, ax_hist) = plt.subplots(2, sharex=True, gridspec_kw={\"height_ratios\": (.15, .85)})\n",
    "sns.boxplot(data=data,x='t2', ax=ax_box)\n",
    "sns.histplot(data=data, x=\"t2\", ax=ax_hist,kde=True)\n",
    "ax_box.set(xlabel='')\n",
    "plt.show()"
   ]
  },
  {
   "cell_type": "markdown",
   "metadata": {},
   "source": [
    "### From the above graph we can infer - \n",
    "- Avg feels like temperature is around 13° celcius \n",
    "- 25% of feels like temperature is around 5° celcius\n",
    "- 75% of feels like temperature is around 16° celcius"
   ]
  },
  {
   "cell_type": "code",
   "execution_count": null,
   "metadata": {
    "execution": {
     "iopub.execute_input": "2022-04-19T06:30:06.668419Z",
     "iopub.status.busy": "2022-04-19T06:30:06.668141Z",
     "iopub.status.idle": "2022-04-19T06:30:07.254253Z",
     "shell.execute_reply": "2022-04-19T06:30:07.253382Z",
     "shell.execute_reply.started": "2022-04-19T06:30:06.668387Z"
    }
   },
   "outputs": [],
   "source": [
    "sns.set(style=\"darkgrid\")\n",
    "f, (ax_box, ax_hist) = plt.subplots(2, sharex=True, gridspec_kw={\"height_ratios\": (.15, .85)})\n",
    "sns.boxplot(data=data,x='cnt', ax=ax_box)\n",
    "sns.histplot(data=data, x=\"cnt\", ax=ax_hist,kde=True)\n",
    "ax_box.set(xlabel='')\n",
    "plt.show()"
   ]
  },
  {
   "cell_type": "markdown",
   "metadata": {},
   "source": [
    "## There are lot of outliers lets transform the data."
   ]
  },
  {
   "cell_type": "code",
   "execution_count": null,
   "metadata": {
    "execution": {
     "iopub.execute_input": "2022-04-19T06:30:07.255799Z",
     "iopub.status.busy": "2022-04-19T06:30:07.255562Z",
     "iopub.status.idle": "2022-04-19T06:30:07.785831Z",
     "shell.execute_reply": "2022-04-19T06:30:07.785002Z",
     "shell.execute_reply.started": "2022-04-19T06:30:07.255769Z"
    }
   },
   "outputs": [],
   "source": [
    "data['cnt'] = (yeojohnson(data['cnt'])[0])\n",
    "sns.set(style=\"darkgrid\")\n",
    "f, (ax_box, ax_hist) = plt.subplots(2, sharex=True, gridspec_kw={\"height_ratios\": (.15, .85)})\n",
    "sns.boxplot(data=data,x='cnt', ax=ax_box)\n",
    "sns.histplot(data=data, x=\"cnt\", ax=ax_hist,kde=True)\n",
    "ax_box.set(xlabel='')\n",
    "plt.show()"
   ]
  },
  {
   "cell_type": "markdown",
   "metadata": {},
   "source": [
    "### From the above graph we can infer - \n",
    "- Avg cnt is around 2000\n",
    "- 25% of temperature is around 1500\n",
    "- 75% of temperature is around 2200"
   ]
  },
  {
   "cell_type": "code",
   "execution_count": null,
   "metadata": {
    "execution": {
     "iopub.execute_input": "2022-04-19T06:30:07.787226Z",
     "iopub.status.busy": "2022-04-19T06:30:07.786954Z",
     "iopub.status.idle": "2022-04-19T06:30:07.964256Z",
     "shell.execute_reply": "2022-04-19T06:30:07.963433Z",
     "shell.execute_reply.started": "2022-04-19T06:30:07.787192Z"
    }
   },
   "outputs": [],
   "source": [
    "sns.countplot(data=data,x='season')\n",
    "plt.show()"
   ]
  },
  {
   "cell_type": "markdown",
   "metadata": {},
   "source": [
    "****As already infered, almost all the four seasons share the equal amount of data****"
   ]
  },
  {
   "cell_type": "code",
   "execution_count": null,
   "metadata": {
    "execution": {
     "iopub.execute_input": "2022-04-19T06:30:07.966264Z",
     "iopub.status.busy": "2022-04-19T06:30:07.96579Z",
     "iopub.status.idle": "2022-04-19T06:30:08.083087Z",
     "shell.execute_reply": "2022-04-19T06:30:08.082186Z",
     "shell.execute_reply.started": "2022-04-19T06:30:07.966217Z"
    }
   },
   "outputs": [],
   "source": [
    "type_value_count = data['weather_code'].value_counts(normalize=True)*100\n",
    "plt.pie(type_value_count,labels=[1,2,3,7,4],autopct='%1.2f%%')\n",
    "plt.title('Number of booking in each weather condition')\n",
    "plt.show()"
   ]
  },
  {
   "cell_type": "markdown",
   "metadata": {},
   "source": [
    "****Most booking data is from weather type 1 followed by type 2 and type 3.****"
   ]
  },
  {
   "cell_type": "code",
   "execution_count": null,
   "metadata": {
    "execution": {
     "iopub.execute_input": "2022-04-19T06:30:08.085393Z",
     "iopub.status.busy": "2022-04-19T06:30:08.084845Z",
     "iopub.status.idle": "2022-04-19T06:30:08.837143Z",
     "shell.execute_reply": "2022-04-19T06:30:08.836353Z",
     "shell.execute_reply.started": "2022-04-19T06:30:08.085345Z"
    }
   },
   "outputs": [],
   "source": [
    "sns.set(style=\"darkgrid\")\n",
    "f, (ax_box, ax_hist) = plt.subplots(2, sharex=True, gridspec_kw={\"height_ratios\": (.15, .85)})\n",
    "sns.boxplot(data=data,x='wind_speed', ax=ax_box)\n",
    "sns.histplot(data=data, x=\"wind_speed\", ax=ax_hist,kde=True)\n",
    "ax_box.set(xlabel='')\n",
    "plt.show()"
   ]
  },
  {
   "cell_type": "markdown",
   "metadata": {},
   "source": [
    "# Treating outliers"
   ]
  },
  {
   "cell_type": "code",
   "execution_count": null,
   "metadata": {
    "execution": {
     "iopub.execute_input": "2022-04-19T06:30:08.8388Z",
     "iopub.status.busy": "2022-04-19T06:30:08.83854Z",
     "iopub.status.idle": "2022-04-19T06:30:08.848957Z",
     "shell.execute_reply": "2022-04-19T06:30:08.847869Z",
     "shell.execute_reply.started": "2022-04-19T06:30:08.838771Z"
    }
   },
   "outputs": [],
   "source": [
    "Q3 = data['wind_speed'].quantile(0.75)\n",
    "Q1 = data['wind_speed'].quantile(0.25)\n",
    "IQR = Q3-Q1\n",
    "upper = Q3+(1.5*IQR)\n",
    "lower = Q1-(1.5*IQR)\n",
    "(upper,lower)"
   ]
  },
  {
   "cell_type": "code",
   "execution_count": null,
   "metadata": {
    "execution": {
     "iopub.execute_input": "2022-04-19T06:30:08.850886Z",
     "iopub.status.busy": "2022-04-19T06:30:08.850331Z",
     "iopub.status.idle": "2022-04-19T06:30:08.857999Z",
     "shell.execute_reply": "2022-04-19T06:30:08.857421Z",
     "shell.execute_reply.started": "2022-04-19T06:30:08.850849Z"
    }
   },
   "outputs": [],
   "source": [
    "data = data[(data['wind_speed']>lower) & (data['wind_speed']<upper)]"
   ]
  },
  {
   "cell_type": "code",
   "execution_count": null,
   "metadata": {
    "execution": {
     "iopub.execute_input": "2022-04-19T06:30:08.860933Z",
     "iopub.status.busy": "2022-04-19T06:30:08.860314Z",
     "iopub.status.idle": "2022-04-19T06:30:09.370783Z",
     "shell.execute_reply": "2022-04-19T06:30:09.369975Z",
     "shell.execute_reply.started": "2022-04-19T06:30:08.860891Z"
    }
   },
   "outputs": [],
   "source": [
    "sns.set(style=\"darkgrid\")\n",
    "f, (ax_box, ax_hist) = plt.subplots(2, sharex=True, gridspec_kw={\"height_ratios\": (.15, .85)})\n",
    "sns.boxplot(data=data,x='wind_speed', ax=ax_box)\n",
    "sns.histplot(data=data, x=\"wind_speed\", ax=ax_hist,kde=True)\n",
    "ax_box.set(xlabel='')\n",
    "plt.show()"
   ]
  },
  {
   "cell_type": "markdown",
   "metadata": {},
   "source": [
    "## From the above graphs, we can say - \n",
    " - Windspeed is normally in the range of 0 to 35\n",
    " - Avg wind speed is 15\n",
    " - 25% of wind speed is under 12\n",
    " - 75% of wind speed is under 19"
   ]
  },
  {
   "cell_type": "code",
   "execution_count": null,
   "metadata": {
    "execution": {
     "iopub.execute_input": "2022-04-19T06:30:09.37262Z",
     "iopub.status.busy": "2022-04-19T06:30:09.372239Z",
     "iopub.status.idle": "2022-04-19T06:30:09.472708Z",
     "shell.execute_reply": "2022-04-19T06:30:09.471465Z",
     "shell.execute_reply.started": "2022-04-19T06:30:09.372576Z"
    }
   },
   "outputs": [],
   "source": [
    "type_value_count = data['is_holiday'].value_counts(normalize=True)*100\n",
    "plt.pie(type_value_count,labels=['Non Holiday','Holiday'],autopct='%1.2f%%')\n",
    "plt.title('Number of booking on Holiday/ Non Holiday')\n",
    "plt.show()"
   ]
  },
  {
   "cell_type": "markdown",
   "metadata": {},
   "source": [
    "****Most of the booking data is from Non Holiday than a Holiday.****"
   ]
  },
  {
   "cell_type": "code",
   "execution_count": null,
   "metadata": {
    "execution": {
     "iopub.execute_input": "2022-04-19T06:30:09.475025Z",
     "iopub.status.busy": "2022-04-19T06:30:09.47457Z",
     "iopub.status.idle": "2022-04-19T06:30:10.040071Z",
     "shell.execute_reply": "2022-04-19T06:30:10.0392Z",
     "shell.execute_reply.started": "2022-04-19T06:30:09.474963Z"
    }
   },
   "outputs": [],
   "source": [
    "sns.set(style=\"darkgrid\")\n",
    "f, (ax_box, ax_hist) = plt.subplots(2, sharex=True, gridspec_kw={\"height_ratios\": (.15, .85)})\n",
    "sns.boxplot(data=data,x='hum', ax=ax_box)\n",
    "sns.histplot(data=data, x=\"hum\", ax=ax_hist,kde=True)\n",
    "ax_box.set(xlabel='')\n",
    "plt.show()"
   ]
  },
  {
   "cell_type": "code",
   "execution_count": null,
   "metadata": {
    "execution": {
     "iopub.execute_input": "2022-04-19T06:30:10.042071Z",
     "iopub.status.busy": "2022-04-19T06:30:10.041532Z",
     "iopub.status.idle": "2022-04-19T06:30:10.053836Z",
     "shell.execute_reply": "2022-04-19T06:30:10.052974Z",
     "shell.execute_reply.started": "2022-04-19T06:30:10.04202Z"
    }
   },
   "outputs": [],
   "source": [
    "Q3 = data['hum'].quantile(0.75)\n",
    "Q1 = data['hum'].quantile(0.25)\n",
    "IQR = Q3-Q1\n",
    "upper = Q3+(1.5*IQR)\n",
    "lower = Q1-(1.5*IQR)\n",
    "(upper,lower)"
   ]
  },
  {
   "cell_type": "code",
   "execution_count": null,
   "metadata": {
    "execution": {
     "iopub.execute_input": "2022-04-19T06:30:10.055737Z",
     "iopub.status.busy": "2022-04-19T06:30:10.055198Z",
     "iopub.status.idle": "2022-04-19T06:30:10.06315Z",
     "shell.execute_reply": "2022-04-19T06:30:10.062508Z",
     "shell.execute_reply.started": "2022-04-19T06:30:10.055689Z"
    }
   },
   "outputs": [],
   "source": [
    "data = data[(data['hum']>lower) & (data['hum']<upper)]"
   ]
  },
  {
   "cell_type": "code",
   "execution_count": null,
   "metadata": {
    "execution": {
     "iopub.execute_input": "2022-04-19T06:30:10.065773Z",
     "iopub.status.busy": "2022-04-19T06:30:10.064701Z",
     "iopub.status.idle": "2022-04-19T06:30:10.571703Z",
     "shell.execute_reply": "2022-04-19T06:30:10.570899Z",
     "shell.execute_reply.started": "2022-04-19T06:30:10.065723Z"
    }
   },
   "outputs": [],
   "source": [
    "sns.set(style=\"darkgrid\")\n",
    "f, (ax_box, ax_hist) = plt.subplots(2, sharex=True, gridspec_kw={\"height_ratios\": (.15, .85)})\n",
    "sns.boxplot(data=data,x='hum', ax=ax_box)\n",
    "sns.histplot(data=data, x=\"hum\", ax=ax_hist,kde=True)\n",
    "ax_box.set(xlabel='')\n",
    "plt.show()"
   ]
  },
  {
   "cell_type": "markdown",
   "metadata": {},
   "source": [
    "# Bi-Variate Analysis"
   ]
  },
  {
   "cell_type": "code",
   "execution_count": null,
   "metadata": {
    "execution": {
     "iopub.execute_input": "2022-04-19T06:30:10.573684Z",
     "iopub.status.busy": "2022-04-19T06:30:10.573233Z",
     "iopub.status.idle": "2022-04-19T06:30:10.856233Z",
     "shell.execute_reply": "2022-04-19T06:30:10.85535Z",
     "shell.execute_reply.started": "2022-04-19T06:30:10.573642Z"
    }
   },
   "outputs": [],
   "source": [
    "sns.violinplot(y='cnt',x='season',data=data)\n",
    "plt.title('Count of booking across each season')\n",
    "plt.show()"
   ]
  },
  {
   "cell_type": "code",
   "execution_count": null,
   "metadata": {
    "execution": {
     "iopub.execute_input": "2022-04-19T06:30:10.857693Z",
     "iopub.status.busy": "2022-04-19T06:30:10.857458Z",
     "iopub.status.idle": "2022-04-19T06:30:11.105008Z",
     "shell.execute_reply": "2022-04-19T06:30:11.104241Z",
     "shell.execute_reply.started": "2022-04-19T06:30:10.857662Z"
    }
   },
   "outputs": [],
   "source": [
    "sns.boxplot(y='cnt',x='weather_code',data=data)\n",
    "plt.title('Count of booking across each weather')\n",
    "plt.show()"
   ]
  },
  {
   "cell_type": "markdown",
   "metadata": {},
   "source": [
    "### From the above graph we can infer - \n",
    "- Most count of booking came from season 2. \n",
    "- Season 1 sees less number of count of booking."
   ]
  },
  {
   "cell_type": "code",
   "execution_count": null,
   "metadata": {
    "execution": {
     "iopub.execute_input": "2022-04-19T06:30:11.106837Z",
     "iopub.status.busy": "2022-04-19T06:30:11.106454Z",
     "iopub.status.idle": "2022-04-19T06:30:11.387394Z",
     "shell.execute_reply": "2022-04-19T06:30:11.386551Z",
     "shell.execute_reply.started": "2022-04-19T06:30:11.106766Z"
    }
   },
   "outputs": [],
   "source": [
    "plt.figure(figsize=(10,6))\n",
    "sns.countplot(x='season',hue='weather_code',data=data)\n",
    "plt.title('Count of booking across each season and weather')\n",
    "plt.show()"
   ]
  },
  {
   "cell_type": "markdown",
   "metadata": {},
   "source": [
    "### From the above graph we can infer - \n",
    "- Almost all the weather condition is same across the seasons\n",
    "- Weather 1,2 and 3 sees less booking compared to Weather 4 and 7 across all season"
   ]
  },
  {
   "cell_type": "code",
   "execution_count": null,
   "metadata": {
    "execution": {
     "iopub.execute_input": "2022-04-19T06:30:11.388872Z",
     "iopub.status.busy": "2022-04-19T06:30:11.388664Z",
     "iopub.status.idle": "2022-04-19T06:30:11.674037Z",
     "shell.execute_reply": "2022-04-19T06:30:11.673201Z",
     "shell.execute_reply.started": "2022-04-19T06:30:11.388845Z"
    }
   },
   "outputs": [],
   "source": [
    "sns.scatterplot(x='t1',y='cnt',data=data)\n",
    "plt.title('Count of booking around the temperature')\n",
    "plt.xlabel('Temperature')\n",
    "plt.show()"
   ]
  },
  {
   "cell_type": "markdown",
   "metadata": {},
   "source": [
    "****There is a uniform distribution of count of booking across all the temperature.****"
   ]
  },
  {
   "cell_type": "code",
   "execution_count": null,
   "metadata": {
    "execution": {
     "iopub.execute_input": "2022-04-19T06:30:11.675532Z",
     "iopub.status.busy": "2022-04-19T06:30:11.675297Z",
     "iopub.status.idle": "2022-04-19T06:30:11.97412Z",
     "shell.execute_reply": "2022-04-19T06:30:11.973442Z",
     "shell.execute_reply.started": "2022-04-19T06:30:11.675501Z"
    }
   },
   "outputs": [],
   "source": [
    "sns.scatterplot(x='t2',y='cnt',data=data)\n",
    "plt.title('Count of booking around feels like temperature')\n",
    "plt.xlabel('Feels like Temperature')\n",
    "plt.show()"
   ]
  },
  {
   "cell_type": "markdown",
   "metadata": {},
   "source": [
    "****There is a uniform distribution of count of booking across all the feels like temperature.****"
   ]
  },
  {
   "cell_type": "code",
   "execution_count": null,
   "metadata": {
    "execution": {
     "iopub.execute_input": "2022-04-19T06:30:11.9755Z",
     "iopub.status.busy": "2022-04-19T06:30:11.975189Z",
     "iopub.status.idle": "2022-04-19T06:30:12.262976Z",
     "shell.execute_reply": "2022-04-19T06:30:12.262209Z",
     "shell.execute_reply.started": "2022-04-19T06:30:11.975472Z"
    }
   },
   "outputs": [],
   "source": [
    "sns.scatterplot(x='hum',y='cnt',data=data)\n",
    "plt.title('Count of booking around humidity')\n",
    "plt.show()"
   ]
  },
  {
   "cell_type": "markdown",
   "metadata": {},
   "source": [
    "****There is higher booking when the humidity id less.****"
   ]
  },
  {
   "cell_type": "code",
   "execution_count": null,
   "metadata": {
    "execution": {
     "iopub.execute_input": "2022-04-19T06:30:12.264941Z",
     "iopub.status.busy": "2022-04-19T06:30:12.264649Z",
     "iopub.status.idle": "2022-04-19T06:30:12.561354Z",
     "shell.execute_reply": "2022-04-19T06:30:12.560521Z",
     "shell.execute_reply.started": "2022-04-19T06:30:12.264901Z"
    }
   },
   "outputs": [],
   "source": [
    "sns.scatterplot(x='wind_speed',y='cnt',data=data)\n",
    "plt.title('Count of booking around humidity')\n",
    "plt.show()"
   ]
  },
  {
   "cell_type": "markdown",
   "metadata": {},
   "source": [
    "****There is a uniform distribution of count of booking for all wind speeds.****"
   ]
  },
  {
   "cell_type": "code",
   "execution_count": null,
   "metadata": {
    "execution": {
     "iopub.execute_input": "2022-04-19T06:30:12.562945Z",
     "iopub.status.busy": "2022-04-19T06:30:12.562667Z",
     "iopub.status.idle": "2022-04-19T06:30:12.752336Z",
     "shell.execute_reply": "2022-04-19T06:30:12.751397Z",
     "shell.execute_reply.started": "2022-04-19T06:30:12.562909Z"
    }
   },
   "outputs": [],
   "source": [
    "year_data = data.groupby(['year'])['cnt'].sum()\n",
    "year_data = year_data.reset_index()\n",
    "sns.barplot(x='year',y='cnt',data=year_data)\n",
    "plt.title('Count of booking per year')\n",
    "plt.show()"
   ]
  },
  {
   "cell_type": "markdown",
   "metadata": {},
   "source": [
    "****Booking from 2017 is nearly zero so far.****"
   ]
  },
  {
   "cell_type": "code",
   "execution_count": null,
   "metadata": {
    "execution": {
     "iopub.execute_input": "2022-04-19T06:30:12.754021Z",
     "iopub.status.busy": "2022-04-19T06:30:12.753717Z",
     "iopub.status.idle": "2022-04-19T06:30:13.023611Z",
     "shell.execute_reply": "2022-04-19T06:30:13.022925Z",
     "shell.execute_reply.started": "2022-04-19T06:30:12.753985Z"
    }
   },
   "outputs": [],
   "source": [
    "month_data = data.groupby(['month'])['cnt'].sum()\n",
    "month_data = month_data.reset_index()\n",
    "sns.barplot(x='month',y='cnt',data=month_data)\n",
    "plt.title('Count of booking per month')\n",
    "plt.show()"
   ]
  },
  {
   "cell_type": "markdown",
   "metadata": {},
   "source": [
    "****Almost all the months have same number of bookings.****"
   ]
  },
  {
   "cell_type": "code",
   "execution_count": null,
   "metadata": {
    "execution": {
     "iopub.execute_input": "2022-04-19T06:30:13.024799Z",
     "iopub.status.busy": "2022-04-19T06:30:13.024605Z",
     "iopub.status.idle": "2022-04-19T06:30:13.036125Z",
     "shell.execute_reply": "2022-04-19T06:30:13.035305Z",
     "shell.execute_reply.started": "2022-04-19T06:30:13.024774Z"
    }
   },
   "outputs": [],
   "source": [
    "mon_year_data = data.groupby(['year','month'])['cnt'].sum()\n",
    "mon_year_data = pd.DataFrame(mon_year_data)\n",
    "mon_year_data.reset_index(inplace = True)\n",
    "myy = mon_year_data.pivot('month','year','cnt').fillna(0)"
   ]
  },
  {
   "cell_type": "code",
   "execution_count": null,
   "metadata": {
    "execution": {
     "iopub.execute_input": "2022-04-19T06:30:13.037771Z",
     "iopub.status.busy": "2022-04-19T06:30:13.037569Z",
     "iopub.status.idle": "2022-04-19T06:30:13.462926Z",
     "shell.execute_reply": "2022-04-19T06:30:13.462362Z",
     "shell.execute_reply.started": "2022-04-19T06:30:13.037745Z"
    }
   },
   "outputs": [],
   "source": [
    "sns.heatmap(myy)\n",
    "plt.title('Count of booking across years and months')\n",
    "plt.xlabel('Year')\n",
    "plt.ylabel('Month')\n",
    "plt.show()"
   ]
  },
  {
   "cell_type": "markdown",
   "metadata": {},
   "source": [
    "****As infered earlier the data booking is almost same across all the months.****"
   ]
  },
  {
   "cell_type": "code",
   "execution_count": null,
   "metadata": {
    "execution": {
     "iopub.execute_input": "2022-04-19T06:30:13.464279Z",
     "iopub.status.busy": "2022-04-19T06:30:13.463957Z",
     "iopub.status.idle": "2022-04-19T06:30:14.276649Z",
     "shell.execute_reply": "2022-04-19T06:30:14.275621Z",
     "shell.execute_reply.started": "2022-04-19T06:30:13.46425Z"
    }
   },
   "outputs": [],
   "source": [
    "plt.figure(figsize=(15,10))\n",
    "sns.heatmap(data.corr(),annot=True)\n",
    "plt.show()"
   ]
  },
  {
   "cell_type": "markdown",
   "metadata": {},
   "source": [
    "### From the above graph we can infer -\n",
    "- There is a high correlation of actual temperature with feels like teperature.\n",
    "- Similarly temp and feels like temp as well as month and seasons are having good correlation."
   ]
  },
  {
   "cell_type": "markdown",
   "metadata": {},
   "source": [
    "# Hypothesis Testing"
   ]
  },
  {
   "cell_type": "markdown",
   "metadata": {},
   "source": [
    "Decribing a fuction to yield result on the basis of given significance value - 0.05¶"
   ]
  },
  {
   "cell_type": "code",
   "execution_count": null,
   "metadata": {
    "execution": {
     "iopub.execute_input": "2022-04-19T06:30:14.278515Z",
     "iopub.status.busy": "2022-04-19T06:30:14.278116Z",
     "iopub.status.idle": "2022-04-19T06:30:14.283808Z",
     "shell.execute_reply": "2022-04-19T06:30:14.283038Z",
     "shell.execute_reply.started": "2022-04-19T06:30:14.278468Z"
    }
   },
   "outputs": [],
   "source": [
    "def htResult(p_value):\n",
    "    significance_level = 0.05\n",
    "    if p_value <= significance_level: \n",
    "        print('Reject NULL HYPOTHESIS') \n",
    "    else: \n",
    "        print('Fail to Reject NULL HYPOTHESIS') "
   ]
  },
  {
   "cell_type": "markdown",
   "metadata": {},
   "source": [
    "## Question - \n",
    "Does holiday has an effect on the number of electric cycles rented?"
   ]
  },
  {
   "cell_type": "markdown",
   "metadata": {},
   "source": [
    "****Null hypothesis, H0****        : There is no effect of holiday on cycles rented.\n",
    "\n",
    "****Alternate hypothesis, Ha****   : There is some effect of holiday on cycles rented."
   ]
  },
  {
   "cell_type": "code",
   "execution_count": null,
   "metadata": {
    "execution": {
     "iopub.execute_input": "2022-04-19T06:30:14.285676Z",
     "iopub.status.busy": "2022-04-19T06:30:14.285239Z",
     "iopub.status.idle": "2022-04-19T06:30:14.297544Z",
     "shell.execute_reply": "2022-04-19T06:30:14.296673Z",
     "shell.execute_reply.started": "2022-04-19T06:30:14.285633Z"
    }
   },
   "outputs": [],
   "source": [
    "working = data[data['is_holiday']==0]\n",
    "not_working = data[data['is_holiday']==1]"
   ]
  },
  {
   "cell_type": "code",
   "execution_count": null,
   "metadata": {
    "execution": {
     "iopub.execute_input": "2022-04-19T06:30:14.299352Z",
     "iopub.status.busy": "2022-04-19T06:30:14.298648Z",
     "iopub.status.idle": "2022-04-19T06:30:14.750174Z",
     "shell.execute_reply": "2022-04-19T06:30:14.749393Z",
     "shell.execute_reply.started": "2022-04-19T06:30:14.299309Z"
    }
   },
   "outputs": [],
   "source": [
    "sns.histplot(x='cnt', data=working, kde = True)\n",
    "plt.show()"
   ]
  },
  {
   "cell_type": "code",
   "execution_count": null,
   "metadata": {
    "execution": {
     "iopub.execute_input": "2022-04-19T06:30:14.751668Z",
     "iopub.status.busy": "2022-04-19T06:30:14.751332Z",
     "iopub.status.idle": "2022-04-19T06:30:14.998893Z",
     "shell.execute_reply": "2022-04-19T06:30:14.998048Z",
     "shell.execute_reply.started": "2022-04-19T06:30:14.751633Z"
    }
   },
   "outputs": [],
   "source": [
    "sns.histplot(x='cnt', data=not_working, kde = True)\n",
    "plt.show()"
   ]
  },
  {
   "cell_type": "markdown",
   "metadata": {
    "execution": {
     "iopub.execute_input": "2022-04-19T05:28:17.505592Z",
     "iopub.status.busy": "2022-04-19T05:28:17.504677Z",
     "iopub.status.idle": "2022-04-19T05:28:17.509801Z",
     "shell.execute_reply": "2022-04-19T05:28:17.508965Z",
     "shell.execute_reply.started": "2022-04-19T05:28:17.505541Z"
    }
   },
   "source": [
    "### From the above graphs we can say that distribution of data is almost normal.\n",
    "## Normality check of the data (Q-Q plot)"
   ]
  },
  {
   "cell_type": "code",
   "execution_count": null,
   "metadata": {
    "execution": {
     "iopub.execute_input": "2022-04-19T06:30:15.000263Z",
     "iopub.status.busy": "2022-04-19T06:30:15.000017Z",
     "iopub.status.idle": "2022-04-19T06:30:15.278034Z",
     "shell.execute_reply": "2022-04-19T06:30:15.277224Z",
     "shell.execute_reply.started": "2022-04-19T06:30:15.000232Z"
    }
   },
   "outputs": [],
   "source": [
    "stats.probplot(working['cnt'], plot= plt, dist=\"norm\")\n",
    "plt.title('Q-Q plot for working day booking count')\n",
    "plt.show()"
   ]
  },
  {
   "cell_type": "code",
   "execution_count": null,
   "metadata": {
    "execution": {
     "iopub.execute_input": "2022-04-19T06:30:15.27991Z",
     "iopub.status.busy": "2022-04-19T06:30:15.279361Z",
     "iopub.status.idle": "2022-04-19T06:30:15.516767Z",
     "shell.execute_reply": "2022-04-19T06:30:15.515933Z",
     "shell.execute_reply.started": "2022-04-19T06:30:15.279869Z"
    }
   },
   "outputs": [],
   "source": [
    "stats.probplot(not_working['cnt'], plot= plt, dist=\"norm\")\n",
    "plt.title('Q-Q plot for non working day booking count')\n",
    "plt.show()"
   ]
  },
  {
   "cell_type": "markdown",
   "metadata": {},
   "source": [
    "****From both the Q-Q Plot we can say that the values are near normal****"
   ]
  },
  {
   "cell_type": "markdown",
   "metadata": {},
   "source": [
    "## Performing t-test\n",
    "Basic assupmtions met"
   ]
  },
  {
   "cell_type": "code",
   "execution_count": null,
   "metadata": {
    "execution": {
     "iopub.execute_input": "2022-04-19T06:30:15.518672Z",
     "iopub.status.busy": "2022-04-19T06:30:15.518274Z",
     "iopub.status.idle": "2022-04-19T06:30:15.52633Z",
     "shell.execute_reply": "2022-04-19T06:30:15.525444Z",
     "shell.execute_reply.started": "2022-04-19T06:30:15.518624Z"
    }
   },
   "outputs": [],
   "source": [
    "t_test = stats.ttest_ind(working['cnt'], not_working['cnt'])\n",
    "p_value = t_test.pvalue\n",
    "print(\"P-value :\",p_value)"
   ]
  },
  {
   "cell_type": "code",
   "execution_count": null,
   "metadata": {
    "execution": {
     "iopub.execute_input": "2022-04-19T06:30:15.527921Z",
     "iopub.status.busy": "2022-04-19T06:30:15.527678Z",
     "iopub.status.idle": "2022-04-19T06:30:15.536702Z",
     "shell.execute_reply": "2022-04-19T06:30:15.535819Z",
     "shell.execute_reply.started": "2022-04-19T06:30:15.527888Z"
    }
   },
   "outputs": [],
   "source": [
    "htResult(p_value)"
   ]
  },
  {
   "cell_type": "markdown",
   "metadata": {},
   "source": [
    "# Answer - \n",
    "****We reject Null Hypothesis, which means holiday has effect on bikes rented.****"
   ]
  },
  {
   "cell_type": "markdown",
   "metadata": {},
   "source": [
    "## Question -\n",
    "To check if Weather is dependent on the season."
   ]
  },
  {
   "cell_type": "markdown",
   "metadata": {},
   "source": [
    "****Null hypothesis, H0****        : Weather is not dependant on the season.\n",
    "\n",
    "****Alternate hypothesis, Ha****   : Weather is dependant on the season."
   ]
  },
  {
   "cell_type": "code",
   "execution_count": null,
   "metadata": {
    "execution": {
     "iopub.execute_input": "2022-04-19T06:30:15.537944Z",
     "iopub.status.busy": "2022-04-19T06:30:15.537723Z",
     "iopub.status.idle": "2022-04-19T06:30:15.558941Z",
     "shell.execute_reply": "2022-04-19T06:30:15.558234Z",
     "shell.execute_reply.started": "2022-04-19T06:30:15.537907Z"
    }
   },
   "outputs": [],
   "source": [
    "cont = pd.crosstab(data['weather_code'],data['season'])"
   ]
  },
  {
   "cell_type": "markdown",
   "metadata": {},
   "source": [
    "## Performing Chi Square Test"
   ]
  },
  {
   "cell_type": "code",
   "execution_count": null,
   "metadata": {
    "execution": {
     "iopub.execute_input": "2022-04-19T06:30:15.560744Z",
     "iopub.status.busy": "2022-04-19T06:30:15.560435Z",
     "iopub.status.idle": "2022-04-19T06:30:15.566021Z",
     "shell.execute_reply": "2022-04-19T06:30:15.565432Z",
     "shell.execute_reply.started": "2022-04-19T06:30:15.560702Z"
    }
   },
   "outputs": [],
   "source": [
    "c, p, dof, expected = stats.chi2_contingency(cont)"
   ]
  },
  {
   "cell_type": "code",
   "execution_count": null,
   "metadata": {
    "execution": {
     "iopub.execute_input": "2022-04-19T06:30:15.567554Z",
     "iopub.status.busy": "2022-04-19T06:30:15.567154Z",
     "iopub.status.idle": "2022-04-19T06:30:15.576332Z",
     "shell.execute_reply": "2022-04-19T06:30:15.575439Z",
     "shell.execute_reply.started": "2022-04-19T06:30:15.567518Z"
    }
   },
   "outputs": [],
   "source": [
    "print('P-value :',p)"
   ]
  },
  {
   "cell_type": "code",
   "execution_count": null,
   "metadata": {
    "execution": {
     "iopub.execute_input": "2022-04-19T06:30:15.577648Z",
     "iopub.status.busy": "2022-04-19T06:30:15.577437Z",
     "iopub.status.idle": "2022-04-19T06:30:15.586395Z",
     "shell.execute_reply": "2022-04-19T06:30:15.585572Z",
     "shell.execute_reply.started": "2022-04-19T06:30:15.577622Z"
    }
   },
   "outputs": [],
   "source": [
    "htResult(p)"
   ]
  },
  {
   "cell_type": "markdown",
   "metadata": {},
   "source": [
    "# Answer -\n",
    "****We reject Null Hypothesis, which means weather is dependant on the season****"
   ]
  },
  {
   "cell_type": "markdown",
   "metadata": {},
   "source": [
    "# Question - \n",
    "To check if No. of cycles rented is similar or different in different season."
   ]
  },
  {
   "cell_type": "markdown",
   "metadata": {},
   "source": [
    "## Checking the normality of the data"
   ]
  },
  {
   "cell_type": "code",
   "execution_count": null,
   "metadata": {
    "execution": {
     "iopub.execute_input": "2022-04-19T06:30:15.587818Z",
     "iopub.status.busy": "2022-04-19T06:30:15.587582Z",
     "iopub.status.idle": "2022-04-19T06:30:15.601588Z",
     "shell.execute_reply": "2022-04-19T06:30:15.600718Z",
     "shell.execute_reply.started": "2022-04-19T06:30:15.587788Z"
    }
   },
   "outputs": [],
   "source": [
    "season_1 = data[data['season']==0].sample(4000)\n",
    "season_2 = data[data['season']==1].sample(4000)\n",
    "season_3 = data[data['season']==2].sample(4000)\n",
    "season_4 = data[data['season']==3].sample(4000)"
   ]
  },
  {
   "cell_type": "code",
   "execution_count": null,
   "metadata": {
    "execution": {
     "iopub.execute_input": "2022-04-19T06:30:15.60374Z",
     "iopub.status.busy": "2022-04-19T06:30:15.603005Z",
     "iopub.status.idle": "2022-04-19T06:30:15.904282Z",
     "shell.execute_reply": "2022-04-19T06:30:15.903455Z",
     "shell.execute_reply.started": "2022-04-19T06:30:15.603694Z"
    }
   },
   "outputs": [],
   "source": [
    "sns.histplot(x='cnt', data=season_1, kde = True)\n",
    "plt.show()"
   ]
  },
  {
   "cell_type": "code",
   "execution_count": null,
   "metadata": {
    "execution": {
     "iopub.execute_input": "2022-04-19T06:30:15.90578Z",
     "iopub.status.busy": "2022-04-19T06:30:15.905571Z",
     "iopub.status.idle": "2022-04-19T06:30:16.141662Z",
     "shell.execute_reply": "2022-04-19T06:30:16.140896Z",
     "shell.execute_reply.started": "2022-04-19T06:30:15.905753Z"
    }
   },
   "outputs": [],
   "source": [
    "stats.probplot(season_1['cnt'], plot= plt, dist=\"norm\")\n",
    "plt.title('Q-Q plot for season 1 booking count')\n",
    "plt.show()"
   ]
  },
  {
   "cell_type": "code",
   "execution_count": null,
   "metadata": {
    "execution": {
     "iopub.execute_input": "2022-04-19T06:30:16.143909Z",
     "iopub.status.busy": "2022-04-19T06:30:16.143097Z",
     "iopub.status.idle": "2022-04-19T06:30:16.432907Z",
     "shell.execute_reply": "2022-04-19T06:30:16.43211Z",
     "shell.execute_reply.started": "2022-04-19T06:30:16.143871Z"
    }
   },
   "outputs": [],
   "source": [
    "sns.histplot(x='cnt', data=season_2, kde = True)\n",
    "plt.show()"
   ]
  },
  {
   "cell_type": "code",
   "execution_count": null,
   "metadata": {
    "execution": {
     "iopub.execute_input": "2022-04-19T06:30:16.434349Z",
     "iopub.status.busy": "2022-04-19T06:30:16.434077Z",
     "iopub.status.idle": "2022-04-19T06:30:16.668564Z",
     "shell.execute_reply": "2022-04-19T06:30:16.667768Z",
     "shell.execute_reply.started": "2022-04-19T06:30:16.434316Z"
    }
   },
   "outputs": [],
   "source": [
    "stats.probplot(season_2['cnt'], plot= plt, dist=\"norm\")\n",
    "plt.title('Q-Q plot for season 2 booking count')\n",
    "plt.show()"
   ]
  },
  {
   "cell_type": "code",
   "execution_count": null,
   "metadata": {
    "execution": {
     "iopub.execute_input": "2022-04-19T06:30:16.674454Z",
     "iopub.status.busy": "2022-04-19T06:30:16.674222Z",
     "iopub.status.idle": "2022-04-19T06:30:16.974546Z",
     "shell.execute_reply": "2022-04-19T06:30:16.973648Z",
     "shell.execute_reply.started": "2022-04-19T06:30:16.674426Z"
    }
   },
   "outputs": [],
   "source": [
    "sns.histplot(x='cnt', data=season_3, kde = True)\n",
    "plt.show()"
   ]
  },
  {
   "cell_type": "code",
   "execution_count": null,
   "metadata": {
    "execution": {
     "iopub.execute_input": "2022-04-19T06:30:16.975825Z",
     "iopub.status.busy": "2022-04-19T06:30:16.975614Z",
     "iopub.status.idle": "2022-04-19T06:30:17.213408Z",
     "shell.execute_reply": "2022-04-19T06:30:17.212675Z",
     "shell.execute_reply.started": "2022-04-19T06:30:16.975798Z"
    }
   },
   "outputs": [],
   "source": [
    "stats.probplot(season_3['cnt'], plot= plt, dist=\"norm\")\n",
    "plt.title('Q-Q plot for season 3 booking count')\n",
    "plt.show()"
   ]
  },
  {
   "cell_type": "code",
   "execution_count": null,
   "metadata": {
    "execution": {
     "iopub.execute_input": "2022-04-19T06:30:17.21479Z",
     "iopub.status.busy": "2022-04-19T06:30:17.214565Z",
     "iopub.status.idle": "2022-04-19T06:30:17.514135Z",
     "shell.execute_reply": "2022-04-19T06:30:17.513259Z",
     "shell.execute_reply.started": "2022-04-19T06:30:17.214761Z"
    }
   },
   "outputs": [],
   "source": [
    "sns.histplot(x='cnt', data=season_4, kde = True)\n",
    "plt.show()"
   ]
  },
  {
   "cell_type": "code",
   "execution_count": null,
   "metadata": {
    "execution": {
     "iopub.execute_input": "2022-04-19T06:30:17.51551Z",
     "iopub.status.busy": "2022-04-19T06:30:17.515298Z",
     "iopub.status.idle": "2022-04-19T06:30:17.767648Z",
     "shell.execute_reply": "2022-04-19T06:30:17.766761Z",
     "shell.execute_reply.started": "2022-04-19T06:30:17.515483Z"
    }
   },
   "outputs": [],
   "source": [
    "stats.probplot(season_4['cnt'], plot= plt, dist=\"norm\")\n",
    "plt.title('Q-Q plot for season 4 booking count')\n",
    "plt.show()"
   ]
  },
  {
   "cell_type": "markdown",
   "metadata": {},
   "source": [
    "****From the above graphs we can say the values are near to normal for all seasons.****"
   ]
  },
  {
   "cell_type": "markdown",
   "metadata": {},
   "source": [
    "# Performing Anova \n",
    "## Season\n",
    "****Null hypothesis, H0****        : No. of cycles rented is similar across various season.\n",
    "\n",
    "****Alternate hypothesis, Ha****   : No. of cycles rented is different across various season.\n",
    "\n"
   ]
  },
  {
   "cell_type": "code",
   "execution_count": null,
   "metadata": {
    "execution": {
     "iopub.execute_input": "2022-04-19T06:30:17.769586Z",
     "iopub.status.busy": "2022-04-19T06:30:17.769151Z",
     "iopub.status.idle": "2022-04-19T06:30:17.776836Z",
     "shell.execute_reply": "2022-04-19T06:30:17.776062Z",
     "shell.execute_reply.started": "2022-04-19T06:30:17.769539Z"
    }
   },
   "outputs": [],
   "source": [
    "p_value = stats.f_oneway(season_1['cnt'],season_2['cnt'],season_3['cnt'],season_4['cnt'])[1]\n",
    "print(\"P-Value : \",p_value)"
   ]
  },
  {
   "cell_type": "code",
   "execution_count": null,
   "metadata": {
    "execution": {
     "iopub.execute_input": "2022-04-19T06:30:17.778549Z",
     "iopub.status.busy": "2022-04-19T06:30:17.778257Z",
     "iopub.status.idle": "2022-04-19T06:30:17.78544Z",
     "shell.execute_reply": "2022-04-19T06:30:17.784832Z",
     "shell.execute_reply.started": "2022-04-19T06:30:17.778518Z"
    }
   },
   "outputs": [],
   "source": [
    "htResult(p_value)"
   ]
  },
  {
   "cell_type": "markdown",
   "metadata": {},
   "source": [
    "## Answer -\n",
    "****We reject Null Hypothesis, which means No. of cycles rented is different across various seasons.****"
   ]
  },
  {
   "cell_type": "markdown",
   "metadata": {},
   "source": [
    "# Recommendations - \n",
    "- Months like Dec, Jan and Feb sees less amount of booking to increase it we can provide a discount on the booking to attract more customres.\n",
    "- More users are booking the bike when humidity is less so we can provide offer to add a refreshement during humid weather.\n",
    "- Working days sees more booking so we can provide an offer during weekends or holidays to bring in more bookings."
   ]
  }
 ],
 "metadata": {
  "kernelspec": {
   "display_name": "Python 3 (ipykernel)",
   "language": "python",
   "name": "python3"
  },
  "language_info": {
   "codemirror_mode": {
    "name": "ipython",
    "version": 3
   },
   "file_extension": ".py",
   "mimetype": "text/x-python",
   "name": "python",
   "nbconvert_exporter": "python",
   "pygments_lexer": "ipython3",
   "version": "3.9.7"
  }
 },
 "nbformat": 4,
 "nbformat_minor": 4
}
